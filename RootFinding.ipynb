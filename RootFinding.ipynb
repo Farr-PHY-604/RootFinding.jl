{
 "cells": [
  {
   "cell_type": "markdown",
   "metadata": {},
   "source": [
    "Simple bisection method:"
   ]
  },
  {
   "cell_type": "code",
   "execution_count": 8,
   "metadata": {},
   "outputs": [
    {
     "data": {
      "text/plain": [
       "bisect_root (generic function with 3 methods)"
      ]
     },
     "execution_count": 8,
     "metadata": {},
     "output_type": "execute_result"
    }
   ],
   "source": [
    "function bisect_root(f, a, b, rtol=1e-8, atol=1e-8)\n",
    "    fa = f(a)\n",
    "    fb = f(b)\n",
    "    \n",
    "    @assert fa*fb < 0\n",
    "    \n",
    "    while abs(a-b) > atol + 0.5*rtol*(abs(a) + abs(b))\n",
    "        m = 0.5*(a + b)\n",
    "        fm = f(m)\n",
    "        \n",
    "        if fa*fm < 0\n",
    "            fb = fm\n",
    "            b = m\n",
    "        else\n",
    "            fa = fm\n",
    "            a = m\n",
    "        end\n",
    "    end\n",
    "    \n",
    "    return 0.5*(a+b)\n",
    "end"
   ]
  },
  {
   "cell_type": "markdown",
   "metadata": {},
   "source": [
    "Let's check that it works:"
   ]
  },
  {
   "cell_type": "code",
   "execution_count": 4,
   "metadata": {},
   "outputs": [
    {
     "data": {
      "text/plain": [
       "sqrt_2_f (generic function with 1 method)"
      ]
     },
     "execution_count": 4,
     "metadata": {},
     "output_type": "execute_result"
    }
   ],
   "source": [
    "function sqrt_2_f(x)\n",
    "    return x*x-2.0\n",
    "end"
   ]
  },
  {
   "cell_type": "code",
   "execution_count": 5,
   "metadata": {},
   "outputs": [
    {
     "data": {
      "text/plain": [
       "1.4142135716974735"
      ]
     },
     "execution_count": 5,
     "metadata": {},
     "output_type": "execute_result"
    }
   ],
   "source": [
    "bisect_root(sqrt_2_f, 1.0, 4.0)"
   ]
  },
  {
   "cell_type": "code",
   "execution_count": 6,
   "metadata": {},
   "outputs": [
    {
     "data": {
      "text/plain": [
       "1.4142135623730951"
      ]
     },
     "execution_count": 6,
     "metadata": {},
     "output_type": "execute_result"
    }
   ],
   "source": [
    "sqrt(2)"
   ]
  },
  {
   "cell_type": "code",
   "execution_count": 2,
   "metadata": {},
   "outputs": [
    {
     "data": {
      "text/plain": [
       "secant_root (generic function with 3 methods)"
      ]
     },
     "execution_count": 2,
     "metadata": {},
     "output_type": "execute_result"
    }
   ],
   "source": [
    "function secant_root(f, a, b, rtol=1e-8, atol=1e-8)\n",
    "    fa = f(a)\n",
    "    fb = f(b)\n",
    "    \n",
    "    @assert fa*fb < 0\n",
    "    \n",
    "    # Secant guesses and function values:\n",
    "    sg0 = a\n",
    "    sg1 = b\n",
    "    sf0 = fa\n",
    "    sf1 = fb\n",
    "    \n",
    "    while abs(sg1-sg0) > atol + 0.5*rtol*(abs(sg0) + abs(sg1))\n",
    "        sg = sg0 - sf0*(sg1-sg0)/(sf1-sf0)\n",
    "        \n",
    "        if sg < a || sg > b\n",
    "            m = 0.5*(a+b)\n",
    "            fm = f(m)\n",
    "            \n",
    "            if fm*fa > 0\n",
    "                a = m\n",
    "                fa = fm\n",
    "            else\n",
    "                b = m\n",
    "                fb = fm\n",
    "            end\n",
    "            \n",
    "            sg0 = a\n",
    "            sg1 = b\n",
    "            sf0 = fa\n",
    "            sf1 = fb\n",
    "        else\n",
    "            sg0 = sg1\n",
    "            sf0 = sf1\n",
    "            sg1 = sg\n",
    "            sf1 = f(sg)\n",
    "        end\n",
    "    end\n",
    "    \n",
    "    return sg1\n",
    "end"
   ]
  },
  {
   "cell_type": "code",
   "execution_count": 5,
   "metadata": {},
   "outputs": [
    {
     "data": {
      "text/plain": [
       "1.414213562373095"
      ]
     },
     "execution_count": 5,
     "metadata": {},
     "output_type": "execute_result"
    }
   ],
   "source": [
    "secant_root(sqrt_2_f, 1.0, 4.0)"
   ]
  },
  {
   "cell_type": "code",
   "execution_count": 11,
   "metadata": {},
   "outputs": [
    {
     "name": "stdout",
     "output_type": "stream",
     "text": [
      "  0.537662 seconds\n"
     ]
    }
   ],
   "source": [
    "@time for i in 1:10000000\n",
    "    secant_root(sqrt_2_f, 1.0, 4.0)\n",
    "end"
   ]
  },
  {
   "cell_type": "code",
   "execution_count": 12,
   "metadata": {},
   "outputs": [
    {
     "name": "stdout",
     "output_type": "stream",
     "text": [
      "  0.697079 seconds\n"
     ]
    }
   ],
   "source": [
    "@time for i in 1:10000000\n",
    "    bisect_root(sqrt_2_f, 1.0, 4.0)\n",
    "end"
   ]
  },
  {
   "cell_type": "code",
   "execution_count": null,
   "metadata": {},
   "outputs": [],
   "source": []
  }
 ],
 "metadata": {
  "kernelspec": {
   "display_name": "Julia 1.2.0",
   "language": "julia",
   "name": "julia-1.2"
  },
  "language_info": {
   "file_extension": ".jl",
   "mimetype": "application/julia",
   "name": "julia",
   "version": "1.2.0"
  }
 },
 "nbformat": 4,
 "nbformat_minor": 2
}
